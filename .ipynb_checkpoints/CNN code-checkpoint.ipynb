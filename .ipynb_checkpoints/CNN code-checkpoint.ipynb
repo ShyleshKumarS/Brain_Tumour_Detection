{
 "cells": [
  {
   "cell_type": "code",
   "execution_count": 1,
   "id": "6cecbd82",
   "metadata": {},
   "outputs": [
    {
     "ename": "ModuleNotFoundError",
     "evalue": "No module named 'keras'",
     "output_type": "error",
     "traceback": [
      "\u001b[1;31m---------------------------------------------------------------------------\u001b[0m",
      "\u001b[1;31mModuleNotFoundError\u001b[0m                       Traceback (most recent call last)",
      "\u001b[1;32m~\\AppData\\Local\\Temp\\ipykernel_26156\\1943496431.py\u001b[0m in \u001b[0;36m<module>\u001b[1;34m\u001b[0m\n\u001b[0;32m      2\u001b[0m \u001b[0mos\u001b[0m\u001b[1;33m.\u001b[0m\u001b[0menviron\u001b[0m\u001b[1;33m[\u001b[0m\u001b[1;34m\"CUDA_DEVICE_ORDER\"\u001b[0m\u001b[1;33m]\u001b[0m \u001b[1;33m=\u001b[0m \u001b[1;34m\"PCI_BUS_ID\"\u001b[0m  \u001b[1;31m# see issue #152\u001b[0m\u001b[1;33m\u001b[0m\u001b[1;33m\u001b[0m\u001b[0m\n\u001b[0;32m      3\u001b[0m \u001b[0mos\u001b[0m\u001b[1;33m.\u001b[0m\u001b[0menviron\u001b[0m\u001b[1;33m[\u001b[0m\u001b[1;34m'CUDA_VISIBLE_DEVICES'\u001b[0m\u001b[1;33m]\u001b[0m \u001b[1;33m=\u001b[0m \u001b[1;34m'0'\u001b[0m  \u001b[1;31m# -1  to USE CPU\u001b[0m\u001b[1;33m\u001b[0m\u001b[1;33m\u001b[0m\u001b[0m\n\u001b[1;32m----> 4\u001b[1;33m \u001b[1;32mfrom\u001b[0m \u001b[0mkeras\u001b[0m\u001b[1;33m.\u001b[0m\u001b[0mlayers\u001b[0m \u001b[1;32mimport\u001b[0m \u001b[0mConv2D\u001b[0m\u001b[1;33m,\u001b[0m \u001b[0mInput\u001b[0m\u001b[1;33m,\u001b[0m \u001b[0mZeroPadding2D\u001b[0m\u001b[1;33m,\u001b[0m \u001b[0mBatchNormalization\u001b[0m\u001b[1;33m,\u001b[0m \u001b[0mActivation\u001b[0m\u001b[1;33m,\u001b[0m \u001b[0mMaxPooling2D\u001b[0m\u001b[1;33m,\u001b[0m \u001b[0mFlatten\u001b[0m\u001b[1;33m,\u001b[0m \u001b[0mDense\u001b[0m\u001b[1;33m,\u001b[0m\u001b[0mDropout\u001b[0m\u001b[1;33m\u001b[0m\u001b[1;33m\u001b[0m\u001b[0m\n\u001b[0m\u001b[0;32m      5\u001b[0m \u001b[1;32mfrom\u001b[0m \u001b[0mkeras\u001b[0m\u001b[1;33m.\u001b[0m\u001b[0mmodels\u001b[0m \u001b[1;32mimport\u001b[0m \u001b[0mModel\u001b[0m\u001b[1;33m,\u001b[0m \u001b[0mload_model\u001b[0m\u001b[1;33m\u001b[0m\u001b[1;33m\u001b[0m\u001b[0m\n\u001b[0;32m      6\u001b[0m \u001b[1;32mfrom\u001b[0m \u001b[0mkeras\u001b[0m\u001b[1;33m.\u001b[0m\u001b[0mcallbacks\u001b[0m \u001b[1;32mimport\u001b[0m \u001b[0mTensorBoard\u001b[0m\u001b[1;33m,\u001b[0m \u001b[0mModelCheckpoint\u001b[0m\u001b[1;33m,\u001b[0m \u001b[0mReduceLROnPlateau\u001b[0m\u001b[1;33m\u001b[0m\u001b[1;33m\u001b[0m\u001b[0m\n",
      "\u001b[1;31mModuleNotFoundError\u001b[0m: No module named 'keras'"
     ]
    }
   ],
   "source": [
    "import os\n",
    "os.environ[\"CUDA_DEVICE_ORDER\"] = \"PCI_BUS_ID\"  # see issue #152\n",
    "os.environ['CUDA_VISIBLE_DEVICES'] = '0'  # -1  to USE CPU\n",
    "from keras.layers import Conv2D, Input, ZeroPadding2D, BatchNormalization, Activation, MaxPooling2D, Flatten, Dense,Dropout\n",
    "from keras.models import Model, load_model\n",
    "from keras.callbacks import TensorBoard, ModelCheckpoint, ReduceLROnPlateau\n",
    "from sklearn.model_selection import train_test_split\n",
    "from sklearn.metrics import f1_score\n",
    "from sklearn.utils import shuffle\n",
    "import cv2\n",
    "import imutils\n",
    "import numpy as np\n",
    "import matplotlib.pyplot as plt\n",
    "import time\n",
    "from os import listdir\n",
    "\n",
    "get_ipython().magic(u'matplotlib inline')"
   ]
  },
  {
   "cell_type": "code",
   "execution_count": null,
   "id": "95e8f608",
   "metadata": {},
   "outputs": [],
   "source": [
    "def crop_brain_contour(image, plot=False):\n",
    "\n",
    "    # Convert the image to grayscale, and blur it slightly\n",
    "    gray = cv2.cvtColor(image, cv2.COLOR_BGR2GRAY)\n",
    "    gray = cv2.GaussianBlur(gray, (5, 5), 0)\n",
    "\n",
    "    # Threshold the image, then perform a series of erosions +\n",
    "    # dilations to remove any small regions of noise\n",
    "    thresh = cv2.threshold(gray, 45, 255, cv2.THRESH_BINARY)[1]\n",
    "    thresh = cv2.erode(thresh, None, iterations=2)\n",
    "    thresh = cv2.dilate(thresh, None, iterations=2)\n",
    "\n",
    "    # Find contours in thresholded image, then grab the largest one\n",
    "    cnts = cv2.findContours(thresh.copy(), cv2.RETR_EXTERNAL, cv2.CHAIN_APPROX_SIMPLE)\n",
    "    cnts = imutils.grab_contours(cnts)\n",
    "    c = max(cnts, key=cv2.contourArea)\n",
    "\n",
    "    # Find the extreme points\n",
    "    extLeft = tuple(c[c[:, :, 0].argmin()][0])\n",
    "    extRight = tuple(c[c[:, :, 0].argmax()][0])\n",
    "    extTop = tuple(c[c[:, :, 1].argmin()][0])\n",
    "    extBot = tuple(c[c[:, :, 1].argmax()][0])\n",
    "\n",
    "    # crop new image out of the original image using the four extreme points (left, right, top, bottom)\n",
    "    new_image = image[extTop[1]:extBot[1], extLeft[0]:extRight[0]]\n",
    "\n",
    "    if plot:\n",
    "        plt.figure()\n",
    "\n",
    "        plt.subplot(1, 2, 1)\n",
    "        plt.imshow(image)\n",
    "\n",
    "        plt.tick_params(axis='both', which='both',\n",
    "                        top=False, bottom=False, left=False, right=False,\n",
    "                        labelbottom=False, labeltop=False, labelleft=False, labelright=False)\n",
    "        plt.title('Original Image')\n",
    "        plt.subplot(1, 2, 2)\n",
    "        plt.imshow(new_image)\n",
    "        plt.tick_params(axis='both', which='both',\n",
    "                        top=False, bottom=False, left=False, right=False,\n",
    "                        labelbottom=False, labeltop=False, labelleft=False, labelright=False)\n",
    "        plt.title('Cropped Image')\n",
    "        plt.show()\n",
    "    return new_image"
   ]
  },
  {
   "cell_type": "code",
   "execution_count": null,
   "id": "b4a4d3f9",
   "metadata": {},
   "outputs": [],
   "source": [
    "ex_img = cv2.imread('yes/Y1.jpg')\n",
    "ex_new_img = crop_brain_contour(ex_img, True)"
   ]
  },
  {
   "cell_type": "code",
   "execution_count": null,
   "id": "f328142d",
   "metadata": {},
   "outputs": [],
   "source": [
    "def load_data(dir_list, image_size):\n",
    "    \"\"\"\n",
    "    Read images, resize and normalize them. \n",
    "    Arguments:\n",
    "        dir_list: list of strings representing file directories.\n",
    "    Returns:\n",
    "        X: A numpy array with shape = (#_examples, image_width, image_height, #_channels)\n",
    "        y: A numpy array with shape = (#_examples, 1)\n",
    "    \"\"\"\n",
    "    # load all images in a directory\n",
    "    X = []\n",
    "    y = []\n",
    "    image_width, image_height = image_size\n",
    "    for directory in dir_list:\n",
    "        for filename in listdir(directory):\n",
    "            print(filename)\n",
    "            print(directory)\n",
    "            # load the image\n",
    "            image = cv2.imread(directory + '/' + filename)\n",
    "            # print(image)\n",
    "            # crop the brain and ignore the unnecessary rest part of the image\n",
    "            image = crop_brain_contour(image, plot=False)\n",
    "            # resize image\n",
    "            image = cv2.resize(image, dsize=(image_width, image_height), interpolation=cv2.INTER_CUBIC)\n",
    "            # normalize values\n",
    "            image = image / 255.\n",
    "            # convert image to numpy array and append it to X\n",
    "            X.append(image)\n",
    "            # append a value of 1 to the target array if the image\n",
    "            # is in the folder named 'yes', otherwise append 0.\n",
    "            if directory[-3:] == 'yes':\n",
    "                y.append([1])\n",
    "            else:\n",
    "                y.append([0])\n",
    "    X = np.array(X)\n",
    "    y = np.array(y)\n",
    "    # Shuffle the data\n",
    "    X, y = shuffle(X, y)\n",
    "    print('Number of examples is:{}'.format(len(X)))\n",
    "    return X,y"
   ]
  },
  {
   "cell_type": "code",
   "execution_count": null,
   "id": "da53d444",
   "metadata": {},
   "outputs": [],
   "source": [
    "augmented_path = 'augmented data/'\n",
    "# augmented data (yes and no) contains both the original and the new generated examples\n",
    "augmented_yes = augmented_path + 'yes'\n",
    "augmented_no = augmented_path + 'no'\n",
    "IMG_WIDTH, IMG_HEIGHT = (240, 240)\n",
    "X, y = load_data([augmented_yes, augmented_no], (IMG_WIDTH, IMG_HEIGHT))"
   ]
  },
  {
   "cell_type": "code",
   "execution_count": null,
   "id": "8abdb5f0",
   "metadata": {},
   "outputs": [],
   "source": [
    "def plot_sample_images(X, y, n=50):\n",
    "\n",
    "    for label in [0,1]:\n",
    "        # grab the first n images with the corresponding y values equal to label\n",
    "        images = X[np.argwhere(y == label)]\n",
    "        n_images = images[:n]\n",
    "\n",
    "        columns_n = 10\n",
    "        rows_n = int(n/ columns_n)\n",
    "\n",
    "        plt.figure(figsize=(20, 10))\n",
    "\n",
    "        i = 1 # current plot        \n",
    "        for image in n_images:\n",
    "            plt.subplot(rows_n, columns_n, i)\n",
    "            plt.imshow(image[0])\n",
    "\n",
    "            # remove ticks\n",
    "            plt.tick_params(axis='both', which='both',\n",
    "                            top=False, bottom=False, left=False, right=False,\n",
    "                           labelbottom=False, labeltop=False, labelleft=False, labelright=False)\n",
    "\n",
    "            i += 1\n",
    "\n",
    "        label_to_str = lambda label: \"Yes\" if label == 1 else \"No\"\n",
    "        plt.suptitle(\"Brain Tumor: {}\".format(label_to_str(label)))\n",
    "        plt.show()\n",
    "\n",
    "plot_sample_images(X, y)"
   ]
  },
  {
   "cell_type": "code",
   "execution_count": null,
   "id": "6fde61aa",
   "metadata": {},
   "outputs": [],
   "source": [
    "def split_data(X, y, test_size=0.2):\n",
    "\n",
    "    X_train, X_test_val, y_train, y_test_val = train_test_split(X, y, test_size=test_size)\n",
    "    X_test, X_val, y_test, y_val = train_test_split(X_test_val, y_test_val, test_size=0.5)\n",
    "    return X_train, y_train, X_val, y_val, X_test, y_test"
   ]
  },
  {
   "cell_type": "code",
   "execution_count": null,
   "id": "eae6d672",
   "metadata": {},
   "outputs": [],
   "source": [
    "X_train, y_train, X_val, y_val, X_test, y_test = split_data(X, y, test_size=0.3)"
   ]
  },
  {
   "cell_type": "code",
   "execution_count": null,
   "id": "b29ac5e4",
   "metadata": {},
   "outputs": [],
   "source": [
    "print (\"number of training examples = \" + str(X_train.shape[0]))\n",
    "print (\"number of development examples = \" + str(X_val.shape[0]))\n",
    "print (\"number of test examples = \" + str(X_test.shape[0]))\n",
    "print (\"X_train shape: \" + str(X_train.shape))\n",
    "print (\"Y_train shape: \" + str(y_train.shape))\n",
    "print (\"X_val (dev) shape: \" + str(X_val.shape))\n",
    "print (\"Y_val (dev) shape: \" + str(y_val.shape))\n",
    "print (\"X_test shape: \" + str(X_test.shape))\n",
    "print (\"Y_test shape: \" + str(y_test.shape))"
   ]
  },
  {
   "cell_type": "code",
   "execution_count": null,
   "id": "a7a0234b",
   "metadata": {},
   "outputs": [],
   "source": [
    "def hms_string(sec_elapsed):\n",
    "    h = int(sec_elapsed / (60 * 60))\n",
    "    m = int((sec_elapsed % (60 * 60)) / 60)\n",
    "    s = sec_elapsed % 60\n",
    "    return \"{}:{}:{}\".format(h,m,round(s,1))"
   ]
  },
  {
   "cell_type": "code",
   "execution_count": null,
   "id": "f750b5bd",
   "metadata": {},
   "outputs": [],
   "source": [
    "def compute_f1_score(y_true, prob):\n",
    "    # convert the vector of probabilities to a target vector\n",
    "    y_pred = np.where(prob > 0.5, 1, 0)\n",
    "    score = f1_score(y_true, y_pred)\n",
    "\n",
    "    return score"
   ]
  },
  {
   "cell_type": "code",
   "execution_count": null,
   "id": "b75f8ef4",
   "metadata": {},
   "outputs": [],
   "source": [
    "def build_model(input_shape):\n",
    "    # Define the input placeholder as a tensor with shape input_shape. \n",
    "    X_input = Input(input_shape)\n",
    "    X = Conv2D(64, (3, 3), strides = (1, 1), name = 'conv0')(X_input)\n",
    "    X = BatchNormalization(axis = 3, name = 'bn0')(X)\n",
    "    X = Activation('relu')(X) # \n",
    "\n",
    "    # MAXPOOL\n",
    "    X = MaxPooling2D((2, 2), name='max_pool0')(X) # \n",
    "    # X=Dropout(0.50)(X)\n",
    "\n",
    "\n",
    "    X = Conv2D(128, (5, 5), strides=(2, 2), name='conv1')(X)\n",
    "    X = BatchNormalization(axis=3, name='bn1')(X)\n",
    "    X = Activation('relu')(X)  # shape=(?, 238, 238, 32)\n",
    "    # MAXPOOL\n",
    "    X = MaxPooling2D((4, 4), name='max_pool1')(X) # shape=(?, 14, 14, 32)\n",
    "    X=Dropout(0.50)(X)\n",
    "\n",
    "    # FLATTEN X \n",
    "    X = Flatten()(X) # shape=(?, 6272)\n",
    "    # FULLYCONNECTED\n",
    "    X = Dense(1, activation='sigmoid', name='fc')(X) # shape=(?, 1)\n",
    "\n",
    "\n",
    "    model = Model(inputs = X_input, outputs = X, name='BrainDetectionModel')\n",
    "\n",
    "    return model"
   ]
  },
  {
   "cell_type": "code",
   "execution_count": null,
   "id": "d9204753",
   "metadata": {},
   "outputs": [],
   "source": [
    "IMG_SHAPE = (IMG_WIDTH, IMG_HEIGHT, 3)\n",
    "model = build_model(IMG_SHAPE)\n",
    "model.summary()"
   ]
  },
  {
   "cell_type": "code",
   "execution_count": null,
   "id": "8abd4e89",
   "metadata": {},
   "outputs": [],
   "source": [
    "model.compile(optimizer='adam', loss='binary_crossentropy', metrics=['accuracy'])\n",
    "\n",
    "\n",
    "import time\n",
    "\n",
    "# tensorboard\n",
    "log_file_name = 'brain_tumor_detection_cnn_{}'.format(int(time.time()))\n",
    "tensorboard = TensorBoard(log_dir='logs/{}'.format(log_file_name))\n",
    "\n",
    "\n",
    "\n",
    "\n",
    "# checkpoint\n",
    "# unique file name that will include the epoch and the validation (development) accuracy\n",
    "filepath=\"cnn-parameters-improvement-{epoch:02d}-{val_accuracy:.2f}\"\n",
    "# save the model with the best validation (development) accuracy till now\n",
    "checkpoint = ModelCheckpoint(\"models/{}.model\".format(filepath, monitor='val_acc', verbose=1, save_best_only=True, mode='max'))"
   ]
  },
  {
   "cell_type": "code",
   "execution_count": 16,
   "id": "9e5179a5",
   "metadata": {},
   "outputs": [],
   "source": [
    "reduce_lr = ReduceLROnPlateau(monitor='val_loss', factor=0.2,\n",
    "                              patience=5, min_lr=0.0001)"
   ]
  },
  {
   "cell_type": "code",
   "execution_count": 17,
   "id": "edeb722f",
   "metadata": {},
   "outputs": [
    {
     "name": "stdout",
     "output_type": "stream",
     "text": [
      "Epoch 1/30\n",
      "46/46 [==============================] - 263s 6s/step - loss: 1.3803 - accuracy: 0.5952 - val_loss: 0.7540 - val_accuracy: 0.4968\n",
      "INFO:tensorflow:Assets written to: models\\cnn-parameters-improvement-01-0.50.model\\assets\n",
      "Epoch 2/30\n",
      "46/46 [==============================] - 271s 6s/step - loss: 0.6385 - accuracy: 0.7336 - val_loss: 0.6430 - val_accuracy: 0.6226\n",
      "INFO:tensorflow:Assets written to: models\\cnn-parameters-improvement-02-0.62.model\\assets\n",
      "Epoch 3/30\n",
      "46/46 [==============================] - 291s 6s/step - loss: 0.5887 - accuracy: 0.7529 - val_loss: 1.0077 - val_accuracy: 0.5129\n",
      "INFO:tensorflow:Assets written to: models\\cnn-parameters-improvement-03-0.51.model\\assets\n",
      "Epoch 4/30\n",
      "46/46 [==============================] - 310s 7s/step - loss: 0.5253 - accuracy: 0.7958 - val_loss: 0.8081 - val_accuracy: 0.5452\n",
      "INFO:tensorflow:Assets written to: models\\cnn-parameters-improvement-04-0.55.model\\assets\n",
      "Epoch 5/30\n",
      "46/46 [==============================] - 277s 6s/step - loss: 0.4438 - accuracy: 0.8159 - val_loss: 0.5731 - val_accuracy: 0.6710\n",
      "INFO:tensorflow:Assets written to: models\\cnn-parameters-improvement-05-0.67.model\\assets\n",
      "Epoch 6/30\n",
      "46/46 [==============================] - 240s 5s/step - loss: 0.5079 - accuracy: 0.8069 - val_loss: 0.4856 - val_accuracy: 0.7645\n",
      "INFO:tensorflow:Assets written to: models\\cnn-parameters-improvement-06-0.76.model\\assets\n",
      "Epoch 7/30\n",
      "46/46 [==============================] - 275s 6s/step - loss: 0.3484 - accuracy: 0.8554 - val_loss: 0.5113 - val_accuracy: 0.7194\n",
      "INFO:tensorflow:Assets written to: models\\cnn-parameters-improvement-07-0.72.model\\assets\n",
      "Epoch 8/30\n",
      "46/46 [==============================] - 284s 6s/step - loss: 0.4055 - accuracy: 0.8422 - val_loss: 1.7095 - val_accuracy: 0.5355\n",
      "INFO:tensorflow:Assets written to: models\\cnn-parameters-improvement-08-0.54.model\\assets\n",
      "Epoch 9/30\n",
      "46/46 [==============================] - 326s 7s/step - loss: 0.5928 - accuracy: 0.8270 - val_loss: 0.4089 - val_accuracy: 0.8290\n",
      "INFO:tensorflow:Assets written to: models\\cnn-parameters-improvement-09-0.83.model\\assets\n",
      "Epoch 10/30\n",
      "46/46 [==============================] - 309s 7s/step - loss: 0.2555 - accuracy: 0.9031 - val_loss: 0.3629 - val_accuracy: 0.8742\n",
      "INFO:tensorflow:Assets written to: models\\cnn-parameters-improvement-10-0.87.model\\assets\n",
      "Epoch 11/30\n",
      "46/46 [==============================] - 296s 6s/step - loss: 0.2747 - accuracy: 0.8934 - val_loss: 0.3836 - val_accuracy: 0.8194\n",
      "INFO:tensorflow:Assets written to: models\\cnn-parameters-improvement-11-0.82.model\\assets\n",
      "Epoch 12/30\n",
      "46/46 [==============================] - 335s 7s/step - loss: 0.2430 - accuracy: 0.9087 - val_loss: 0.3415 - val_accuracy: 0.8839\n",
      "INFO:tensorflow:Assets written to: models\\cnn-parameters-improvement-12-0.88.model\\assets\n",
      "Epoch 13/30\n",
      "46/46 [==============================] - 254s 5s/step - loss: 0.2386 - accuracy: 0.9107 - val_loss: 0.2952 - val_accuracy: 0.8903\n",
      "INFO:tensorflow:Assets written to: models\\cnn-parameters-improvement-13-0.89.model\\assets\n",
      "Epoch 14/30\n",
      "46/46 [==============================] - 243s 5s/step - loss: 0.3343 - accuracy: 0.8699 - val_loss: 0.3489 - val_accuracy: 0.8548\n",
      "INFO:tensorflow:Assets written to: models\\cnn-parameters-improvement-14-0.85.model\\assets\n",
      "Epoch 15/30\n",
      "46/46 [==============================] - 239s 5s/step - loss: 0.2771 - accuracy: 0.8879 - val_loss: 0.3785 - val_accuracy: 0.8645\n",
      "INFO:tensorflow:Assets written to: models\\cnn-parameters-improvement-15-0.86.model\\assets\n",
      "Epoch 16/30\n",
      "46/46 [==============================] - 235s 5s/step - loss: 0.1995 - accuracy: 0.9301 - val_loss: 0.3117 - val_accuracy: 0.8839\n",
      "INFO:tensorflow:Assets written to: models\\cnn-parameters-improvement-16-0.88.model\\assets\n",
      "Epoch 17/30\n",
      "46/46 [==============================] - 235s 5s/step - loss: 0.1963 - accuracy: 0.9253 - val_loss: 0.4670 - val_accuracy: 0.8355\n",
      "INFO:tensorflow:Assets written to: models\\cnn-parameters-improvement-17-0.84.model\\assets\n",
      "Epoch 18/30\n",
      "46/46 [==============================] - 237s 5s/step - loss: 0.2126 - accuracy: 0.9176 - val_loss: 0.4025 - val_accuracy: 0.8935\n",
      "INFO:tensorflow:Assets written to: models\\cnn-parameters-improvement-18-0.89.model\\assets\n",
      "Epoch 19/30\n",
      "46/46 [==============================] - 234s 5s/step - loss: 0.1394 - accuracy: 0.9474 - val_loss: 0.3389 - val_accuracy: 0.9032\n",
      "INFO:tensorflow:Assets written to: models\\cnn-parameters-improvement-19-0.90.model\\assets\n",
      "Epoch 20/30\n",
      "46/46 [==============================] - 235s 5s/step - loss: 0.1218 - accuracy: 0.9522 - val_loss: 0.2919 - val_accuracy: 0.9161\n",
      "INFO:tensorflow:Assets written to: models\\cnn-parameters-improvement-20-0.92.model\\assets\n",
      "Epoch 21/30\n",
      "46/46 [==============================] - 237s 5s/step - loss: 0.1020 - accuracy: 0.9599 - val_loss: 0.3114 - val_accuracy: 0.8903\n",
      "INFO:tensorflow:Assets written to: models\\cnn-parameters-improvement-21-0.89.model\\assets\n",
      "Epoch 22/30\n",
      "46/46 [==============================] - 236s 5s/step - loss: 0.1076 - accuracy: 0.9626 - val_loss: 0.2689 - val_accuracy: 0.9161\n",
      "INFO:tensorflow:Assets written to: models\\cnn-parameters-improvement-22-0.92.model\\assets\n",
      "Epoch 23/30\n",
      "46/46 [==============================] - 237s 5s/step - loss: 0.1037 - accuracy: 0.9612 - val_loss: 0.2774 - val_accuracy: 0.9194\n",
      "INFO:tensorflow:Assets written to: models\\cnn-parameters-improvement-23-0.92.model\\assets\n",
      "Epoch 24/30\n",
      "46/46 [==============================] - 236s 5s/step - loss: 0.0992 - accuracy: 0.9606 - val_loss: 0.2712 - val_accuracy: 0.9226\n",
      "INFO:tensorflow:Assets written to: models\\cnn-parameters-improvement-24-0.92.model\\assets\n",
      "Epoch 25/30\n",
      "46/46 [==============================] - 235s 5s/step - loss: 0.0869 - accuracy: 0.9709 - val_loss: 0.2659 - val_accuracy: 0.9258\n",
      "INFO:tensorflow:Assets written to: models\\cnn-parameters-improvement-25-0.93.model\\assets\n",
      "Epoch 26/30\n",
      "46/46 [==============================] - 237s 5s/step - loss: 0.0925 - accuracy: 0.9675 - val_loss: 0.2931 - val_accuracy: 0.9129\n",
      "INFO:tensorflow:Assets written to: models\\cnn-parameters-improvement-26-0.91.model\\assets\n",
      "Epoch 27/30\n",
      "46/46 [==============================] - 237s 5s/step - loss: 0.0771 - accuracy: 0.9668 - val_loss: 0.2948 - val_accuracy: 0.8968\n",
      "INFO:tensorflow:Assets written to: models\\cnn-parameters-improvement-27-0.90.model\\assets\n",
      "Epoch 28/30\n",
      "46/46 [==============================] - 235s 5s/step - loss: 0.1084 - accuracy: 0.9516 - val_loss: 0.3255 - val_accuracy: 0.8968\n",
      "INFO:tensorflow:Assets written to: models\\cnn-parameters-improvement-28-0.90.model\\assets\n",
      "Epoch 29/30\n",
      "46/46 [==============================] - 238s 5s/step - loss: 0.0960 - accuracy: 0.9626 - val_loss: 0.3053 - val_accuracy: 0.9129\n",
      "INFO:tensorflow:Assets written to: models\\cnn-parameters-improvement-29-0.91.model\\assets\n",
      "Epoch 30/30\n",
      "46/46 [==============================] - 268s 6s/step - loss: 0.0710 - accuracy: 0.9737 - val_loss: 0.2421 - val_accuracy: 0.9419\n",
      "INFO:tensorflow:Assets written to: models\\cnn-parameters-improvement-30-0.94.model\\assets\n",
      "Elapsed time: 2:11:8.3\n"
     ]
    }
   ],
   "source": [
    "start_time = time.time()\n",
    "\n",
    "model.fit(x=X_train, y=y_train, batch_size=32, epochs=30, validation_data=(X_val, y_val), callbacks=[reduce_lr,tensorboard, checkpoint])\n",
    "\n",
    "end_time = time.time()\n",
    "execution_time = (end_time - start_time)\n",
    "print(\"Elapsed time: {}\".format(hms_string(execution_time)))"
   ]
  },
  {
   "cell_type": "code",
   "execution_count": 18,
   "id": "cac19fb6",
   "metadata": {},
   "outputs": [
    {
     "name": "stdout",
     "output_type": "stream",
     "text": [
      "loss\n",
      "accuracy\n",
      "val_loss\n",
      "val_accuracy\n",
      "lr\n"
     ]
    }
   ],
   "source": [
    "history = model.history.history\n",
    "\n",
    "for key in history.keys():\n",
    "    print(key)"
   ]
  },
  {
   "cell_type": "code",
   "execution_count": 20,
   "id": "51eb0673",
   "metadata": {},
   "outputs": [
    {
     "data": {
      "image/png": "[encoded data removed]",
      "text/plain": [
       "<Figure size 432x288 with 1 Axes>"
      ]
     },
     "metadata": {
      "needs_background": "light"
     },
     "output_type": "display_data"
    },
    {
     "data": {
      "image/png": "[encoded data removed]",
      "text/plain": [
       "<Figure size 432x288 with 1 Axes>"
      ]
     },
     "metadata": {
      "needs_background": "light"
     },
     "output_type": "display_data"
    }
   ],
   "source": [
    "def plot_metrics(history):\n",
    "\n",
    "    train_loss = history['loss']\n",
    "    val_loss = history['val_loss']\n",
    "    train_acc = history['accuracy']\n",
    "    val_acc = history['val_accuracy']\n",
    "\n",
    "    # Loss\n",
    "    plt.figure()\n",
    "    plt.plot(train_loss, label='Training Loss')\n",
    "    plt.plot(val_loss, label='Validation Loss')\n",
    "    plt.title('Loss')\n",
    "    plt.legend()\n",
    "    plt.show()\n",
    "\n",
    "    # Accuracy\n",
    "    plt.figure()\n",
    "    plt.plot(train_acc, label='Training Accuracy')\n",
    "    plt.plot(val_acc, label='Validation Accuracy')\n",
    "    plt.title('Accuracy')\n",
    "    plt.legend()\n",
    "    plt.show()\n",
    "\n",
    "\n",
    "\n",
    "\n",
    "plot_metrics(history)"
   ]
  },
  {
   "cell_type": "code",
   "execution_count": 21,
   "id": "83d495b6",
   "metadata": {},
   "outputs": [
    {
     "data": {
      "text/plain": [
       "['loss', 'accuracy']"
      ]
     },
     "execution_count": 21,
     "metadata": {},
     "output_type": "execute_result"
    }
   ],
   "source": [
    "model.metrics_names"
   ]
  },
  {
   "cell_type": "code",
   "execution_count": 22,
   "id": "91b16db2",
   "metadata": {},
   "outputs": [
    {
     "name": "stdout",
     "output_type": "stream",
     "text": [
      "10/10 [==============================] - 16s 2s/step - loss: 0.2390 - accuracy: 0.9194\n"
     ]
    }
   ],
   "source": [
    "loss, accuracy = model.evaluate(x=X_test, y=y_test)"
   ]
  },
  {
   "cell_type": "code",
   "execution_count": 23,
   "id": "beee3264",
   "metadata": {},
   "outputs": [
    {
     "name": "stdout",
     "output_type": "stream",
     "text": [
      "Test Loss = 0.23900838196277618\n",
      "Test Accuracy = 0.9193548560142517\n"
     ]
    }
   ],
   "source": [
    "print (\"Test Loss = {}\".format(loss))\n",
    "print (\"Test Accuracy = {}\".format(accuracy))"
   ]
  },
  {
   "cell_type": "code",
   "execution_count": 24,
   "id": "2929ddec",
   "metadata": {},
   "outputs": [],
   "source": [
    "y_test_prob = model.predict(X_test)\n"
   ]
  },
  {
   "cell_type": "code",
   "execution_count": 25,
   "id": "0a794c48",
   "metadata": {},
   "outputs": [],
   "source": [
    "f1score = compute_f1_score(y_test, y_test_prob)"
   ]
  },
  {
   "cell_type": "code",
   "execution_count": 26,
   "id": "1686661a",
   "metadata": {},
   "outputs": [],
   "source": [
    "y_val_prob = model.predict(X_val)"
   ]
  },
  {
   "cell_type": "code",
   "execution_count": 27,
   "id": "efd26e79",
   "metadata": {},
   "outputs": [],
   "source": [
    "f1score_val = compute_f1_score(y_val, y_val_prob)"
   ]
  },
  {
   "cell_type": "code",
   "execution_count": 28,
   "id": "15bb519c",
   "metadata": {},
   "outputs": [],
   "source": [
    "def data_percentage(y):\n",
    "\n",
    "    m=len(y)\n",
    "    n_positive = np.sum(y)\n",
    "    n_negative = m - n_positive\n",
    "\n",
    "    pos_prec = (n_positive* 100.0)/ m\n",
    "    neg_prec = (n_negative* 100.0)/ m\n",
    "\n",
    "    print(\"Number of examples:{}\".format(m))\n",
    "    print(\"Percentage of positive examples: {}%, number of pos examples: {}\".format(pos_prec,n_positive))\n",
    "    print(\"Percentage of negative examples: {}%, number of neg examples: {}\".format(neg_prec,n_negative))"
   ]
  },
  {
   "cell_type": "code",
   "execution_count": 29,
   "id": "9b369c79",
   "metadata": {},
   "outputs": [
    {
     "name": "stdout",
     "output_type": "stream",
     "text": [
      "Number of examples:2065\n",
      "Percentage of positive examples: 52.54237288135593%, number of pos examples: 1085\n",
      "Percentage of negative examples: 47.45762711864407%, number of neg examples: 980\n"
     ]
    }
   ],
   "source": [
    "data_percentage(y)"
   ]
  },
  {
   "cell_type": "code",
   "execution_count": 30,
   "id": "dbc11273",
   "metadata": {},
   "outputs": [
    {
     "name": "stdout",
     "output_type": "stream",
     "text": [
      "Training Data:\n",
      "Number of examples:1445\n",
      "Percentage of positive examples: 52.31833910034602%, number of pos examples: 756\n",
      "Percentage of negative examples: 47.68166089965398%, number of neg examples: 689\n",
      "Validation Data:\n",
      "Number of examples:310\n",
      "Percentage of positive examples: 49.67741935483871%, number of pos examples: 154\n",
      "Percentage of negative examples: 50.32258064516129%, number of neg examples: 156\n",
      "Testing Data:\n",
      "Number of examples:310\n",
      "Percentage of positive examples: 56.45161290322581%, number of pos examples: 175\n",
      "Percentage of negative examples: 43.54838709677419%, number of neg examples: 135\n"
     ]
    }
   ],
   "source": [
    "print(\"Training Data:\")\n",
    "data_percentage(y_train)\n",
    "print(\"Validation Data:\")\n",
    "data_percentage(y_val)\n",
    "print(\"Testing Data:\")\n",
    "data_percentage(y_test)"
   ]
  },
  {
   "cell_type": "code",
   "execution_count": null,
   "id": "c51cebb9",
   "metadata": {},
   "outputs": [],
   "source": []
  }
 ],
 "metadata": {
  "kernelspec": {
   "display_name": "Python 3 (ipykernel)",
   "language": "python",
   "name": "python3"
  },
  "language_info": {
   "codemirror_mode": {
    "name": "ipython",
    "version": 3
   },
   "file_extension": ".py",
   "mimetype": "text/x-python",
   "name": "python",
   "nbconvert_exporter": "python",
   "pygments_lexer": "ipython3",
   "version": "3.9.13"
  }
 },
 "nbformat": 4,
 "nbformat_minor": 5
}
